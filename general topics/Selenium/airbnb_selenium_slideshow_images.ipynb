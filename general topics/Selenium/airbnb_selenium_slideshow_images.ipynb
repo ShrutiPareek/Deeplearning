{
 "cells": [
  {
   "cell_type": "code",
   "execution_count": 14,
   "metadata": {},
   "outputs": [],
   "source": [
    "import urllib\n",
    "from selenium import webdriver\n",
    "from selenium.common.exceptions import NoSuchElementException\n",
    "import os\n",
    "try:\n",
    "    if not os.path.exists('ScrappedImages'):\n",
    "        os.makedirs('ScrappedImages')\n",
    "except OSError:\n",
    "    print ('Error: Creating directory of data')"
   ]
  },
  {
   "cell_type": "code",
   "execution_count": 17,
   "metadata": {},
   "outputs": [
    {
     "name": "stdout",
     "output_type": "stream",
     "text": [
      "https://www.airbnb.com/rooms/16590973 listing is no longer available.\n"
     ]
    }
   ],
   "source": [
    "#works in mac only and only for airbnb listings url \n",
    "#scrapped images from  the slide show\n",
    "options = webdriver.ChromeOptions()\n",
    "options.binary_location = '/Applications/Google Chrome Canary.app/Contents/MacOS/Google Chrome Canary'\n",
    "options.add_argument('window-size=800x841')\n",
    "options.add_argument('headless')\n",
    "driver = webdriver.Chrome(chrome_options=options)\n",
    "data_url='https://www.airbnb.com/rooms/16590973'\n",
    "driver.get(data_url)\n",
    "try:\n",
    "    elem = driver.find_element_by_css_selector('.btn')\n",
    "    elem.click()\n",
    "    num=driver.find_element_by_css_selector('._dxgq4v').text.split(':')[0].split('/')[1]\n",
    "    int_num=int(num)\n",
    "    print \"total \"+str(int_num)+\" images\"\n",
    "    count = 0\n",
    "    while (count < int_num):\n",
    "        topLinks = driver.find_element_by_class_name('Slideshow__images')\n",
    "        botLink=topLinks.find_element_by_tag_name('img')\n",
    "        image=botLink.get_attribute(\"src\")\n",
    "        print(botLink.get_attribute(\"src\"))\n",
    "        urllib.urlretrieve(image, \"./ScrappedImages/\"+data_url.split('/rooms/')[1]+'_'+str(count)+\".png\")\n",
    "        driver.find_element_by_css_selector('._elqfm6c').click()\n",
    "        count = count + 1\n",
    "except NoSuchElementException:\n",
    "    print data_url + \" listing is no longer available.\"\n",
    "    \n",
    "driver.close()"
   ]
  },
  {
   "cell_type": "code",
   "execution_count": null,
   "metadata": {},
   "outputs": [],
   "source": []
  }
 ],
 "metadata": {
  "kernelspec": {
   "display_name": "Python 2",
   "language": "python",
   "name": "python2"
  },
  "language_info": {
   "codemirror_mode": {
    "name": "ipython",
    "version": 2
   },
   "file_extension": ".py",
   "mimetype": "text/x-python",
   "name": "python",
   "nbconvert_exporter": "python",
   "pygments_lexer": "ipython2",
   "version": "2.7.14"
  },
  "widgets": {
   "state": {},
   "version": "1.1.2"
  }
 },
 "nbformat": 4,
 "nbformat_minor": 2
}
