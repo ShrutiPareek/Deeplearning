{
 "cells": [
  {
   "cell_type": "code",
   "execution_count": 6,
   "metadata": {},
   "outputs": [],
   "source": [
    "import pandas as pd"
   ]
  },
  {
   "cell_type": "code",
   "execution_count": 8,
   "metadata": {},
   "outputs": [],
   "source": [
    "data=pd.read_csv('/Users/jaideep/Downloads/listings 2.csv')"
   ]
  },
  {
   "cell_type": "code",
   "execution_count": 10,
   "metadata": {},
   "outputs": [
    {
     "data": {
      "text/plain": [
       "0        https://www.airbnb.com/rooms/14831696\n",
       "1         https://www.airbnb.com/rooms/3951251\n",
       "2        https://www.airbnb.com/rooms/16590973\n",
       "3         https://www.airbnb.com/rooms/9283701\n",
       "4         https://www.airbnb.com/rooms/6458721\n",
       "5        https://www.airbnb.com/rooms/14864447\n",
       "6        https://www.airbnb.com/rooms/16306240\n",
       "7        https://www.airbnb.com/rooms/15211538\n",
       "8         https://www.airbnb.com/rooms/1261425\n",
       "9         https://www.airbnb.com/rooms/5978154\n",
       "10       https://www.airbnb.com/rooms/10691231\n",
       "11        https://www.airbnb.com/rooms/8024854\n",
       "12        https://www.airbnb.com/rooms/6606330\n",
       "13        https://www.airbnb.com/rooms/1551034\n",
       "14       https://www.airbnb.com/rooms/17229308\n",
       "15        https://www.airbnb.com/rooms/2117111\n",
       "16       https://www.airbnb.com/rooms/17312436\n",
       "17        https://www.airbnb.com/rooms/5317273\n",
       "18          https://www.airbnb.com/rooms/76459\n",
       "19        https://www.airbnb.com/rooms/6667963\n",
       "20        https://www.airbnb.com/rooms/9424352\n",
       "21         https://www.airbnb.com/rooms/931801\n",
       "22       https://www.airbnb.com/rooms/17120914\n",
       "23       https://www.airbnb.com/rooms/14229674\n",
       "24        https://www.airbnb.com/rooms/9981383\n",
       "25       https://www.airbnb.com/rooms/14987811\n",
       "26        https://www.airbnb.com/rooms/6110143\n",
       "27        https://www.airbnb.com/rooms/4926673\n",
       "28        https://www.airbnb.com/rooms/2174139\n",
       "29       https://www.airbnb.com/rooms/13577417\n",
       "                         ...                  \n",
       "15151      https://www.airbnb.com/rooms/107326\n",
       "15152    https://www.airbnb.com/rooms/16565729\n",
       "15153    https://www.airbnb.com/rooms/13419985\n",
       "15154    https://www.airbnb.com/rooms/14566784\n",
       "15155    https://www.airbnb.com/rooms/14568336\n",
       "15156    https://www.airbnb.com/rooms/13710865\n",
       "15157    https://www.airbnb.com/rooms/16791036\n",
       "15158     https://www.airbnb.com/rooms/6232340\n",
       "15159     https://www.airbnb.com/rooms/7180158\n",
       "15160    https://www.airbnb.com/rooms/13278211\n",
       "15161    https://www.airbnb.com/rooms/15798377\n",
       "15162    https://www.airbnb.com/rooms/16517898\n",
       "15163    https://www.airbnb.com/rooms/11110226\n",
       "15164     https://www.airbnb.com/rooms/8362554\n",
       "15165    https://www.airbnb.com/rooms/13599292\n",
       "15166    https://www.airbnb.com/rooms/12485124\n",
       "15167     https://www.airbnb.com/rooms/3310738\n",
       "15168    https://www.airbnb.com/rooms/16942135\n",
       "15169    https://www.airbnb.com/rooms/14456438\n",
       "15170     https://www.airbnb.com/rooms/4920568\n",
       "15171    https://www.airbnb.com/rooms/13538601\n",
       "15172     https://www.airbnb.com/rooms/5643751\n",
       "15173     https://www.airbnb.com/rooms/6036183\n",
       "15174    https://www.airbnb.com/rooms/17821105\n",
       "15175    https://www.airbnb.com/rooms/17447776\n",
       "15176    https://www.airbnb.com/rooms/17570877\n",
       "15177    https://www.airbnb.com/rooms/17889982\n",
       "15178    https://www.airbnb.com/rooms/17537247\n",
       "15179    https://www.airbnb.com/rooms/17817873\n",
       "15180    https://www.airbnb.com/rooms/17634195\n",
       "Name: listing_url, Length: 15181, dtype: object"
      ]
     },
     "execution_count": 10,
     "metadata": {},
     "output_type": "execute_result"
    }
   ],
   "source": [
    "data['listing_url']"
   ]
  },
  {
   "cell_type": "code",
   "execution_count": 11,
   "metadata": {},
   "outputs": [
    {
     "data": {
      "text/plain": [
       "'https://www.airbnb.com/rooms/14831696'"
      ]
     },
     "execution_count": 11,
     "metadata": {},
     "output_type": "execute_result"
    }
   ],
   "source": [
    "data['listing_url'][0]"
   ]
  },
  {
   "cell_type": "code",
   "execution_count": 12,
   "metadata": {},
   "outputs": [
    {
     "data": {
      "text/plain": [
       "15181"
      ]
     },
     "execution_count": 12,
     "metadata": {},
     "output_type": "execute_result"
    }
   ],
   "source": [
    "len(data)"
   ]
  },
  {
   "cell_type": "code",
   "execution_count": null,
   "metadata": {},
   "outputs": [],
   "source": []
  },
  {
   "cell_type": "code",
   "execution_count": null,
   "metadata": {},
   "outputs": [],
   "source": []
  }
 ],
 "metadata": {
  "kernelspec": {
   "display_name": "Python 2",
   "language": "python",
   "name": "python2"
  },
  "language_info": {
   "codemirror_mode": {
    "name": "ipython",
    "version": 2
   },
   "file_extension": ".py",
   "mimetype": "text/x-python",
   "name": "python",
   "nbconvert_exporter": "python",
   "pygments_lexer": "ipython2",
   "version": "2.7.14"
  },
  "widgets": {
   "state": {},
   "version": "1.1.2"
  }
 },
 "nbformat": 4,
 "nbformat_minor": 2
}
