{
 "cells": [
  {
   "cell_type": "code",
   "execution_count": 14,
   "metadata": {},
   "outputs": [],
   "source": [
    "import urllib\n",
    "from selenium import webdriver\n",
    "import os\n",
    "try:\n",
    "    if not os.path.exists('ScrappedImages'):\n",
    "        os.makedirs('ScrappedImages')\n",
    "except OSError:\n",
    "    print ('Error: Creating directory of data')"
   ]
  },
  {
   "cell_type": "code",
   "execution_count": 15,
   "metadata": {},
   "outputs": [
    {
     "name": "stdout",
     "output_type": "stream",
     "text": [
      "total 10 images\n",
      "https://a0.muscache.com/im/pictures/32107277-1def-4737-b487-057229122702.jpg?aki_policy=xx_large\n",
      "https://a0.muscache.com/im/pictures/2c99152d-ceac-4bcb-be9a-91c04bf628d9.jpg?aki_policy=x_large\n",
      "https://a0.muscache.com/im/pictures/36518a7c-aa34-4088-9f71-f31bab986836.jpg?aki_policy=x_large\n",
      "https://a0.muscache.com/im/pictures/fbe81010-34f4-4f5f-b591-bf1a1dc56566.jpg?aki_policy=x_large\n",
      "https://a0.muscache.com/im/pictures/a52bb11a-9a9e-40c9-a0a3-a003127cfe43.jpg?aki_policy=x_large\n",
      "https://a0.muscache.com/im/pictures/f5ce8114-8724-4b31-b1cc-5ee268c0ed33.jpg?aki_policy=x_large\n",
      "https://a0.muscache.com/im/pictures/8110af87-1cd8-49d1-80c4-e283aaccad6d.jpg?aki_policy=x_large\n",
      "https://a0.muscache.com/im/pictures/8303b839-b58d-4fb3-b727-fafb8b1f8cc9.jpg?aki_policy=x_large\n",
      "https://a0.muscache.com/im/pictures/a5eae42e-d8d0-4d64-be08-c8dc94998358.jpg?aki_policy=x_large\n",
      "https://a0.muscache.com/im/pictures/e9e0efe0-7c2f-4d49-8ed4-529fe81a1bce.jpg?aki_policy=x_large\n"
     ]
    }
   ],
   "source": [
    "#works in mac only and only for airbnb listings url \n",
    "#scrapped images from  the slide show\n",
    "options = webdriver.ChromeOptions()\n",
    "options.binary_location = '/Applications/Google Chrome Canary.app/Contents/MacOS/Google Chrome Canary'\n",
    "options.add_argument('window-size=800x841')\n",
    "options.add_argument('headless')\n",
    "driver = webdriver.Chrome(chrome_options=options)\n",
    "data_url='https://www.airbnb.com/rooms/15211538'\n",
    "driver.get(data_url)\n",
    "driver.find_element_by_css_selector('.btn').click()\n",
    "num=driver.find_element_by_css_selector('._dxgq4v').text.split(':')[0].split('/')[1]\n",
    "int_num=int(num)\n",
    "print \"total \"+str(int_num)+\" images\"\n",
    "count = 0\n",
    "while (count < int_num):\n",
    "    topLinks = driver.find_element_by_class_name('Slideshow__images')\n",
    "    botLink=topLinks.find_element_by_tag_name('img')\n",
    "    image=botLink.get_attribute(\"src\")\n",
    "    print(botLink.get_attribute(\"src\"))\n",
    "    urllib.urlretrieve(image, \"./ScrappedImages/\"+data_url.split('/rooms/')[1]+'_'+str(count)+\".png\")\n",
    "    driver.find_element_by_css_selector('._elqfm6c').click()\n",
    "    count = count + 1\n",
    "\n",
    "driver.close()"
   ]
  },
  {
   "cell_type": "code",
   "execution_count": null,
   "metadata": {},
   "outputs": [],
   "source": []
  }
 ],
 "metadata": {
  "kernelspec": {
   "display_name": "Python 2",
   "language": "python",
   "name": "python2"
  },
  "language_info": {
   "codemirror_mode": {
    "name": "ipython",
    "version": 2
   },
   "file_extension": ".py",
   "mimetype": "text/x-python",
   "name": "python",
   "nbconvert_exporter": "python",
   "pygments_lexer": "ipython2",
   "version": "2.7.14"
  },
  "widgets": {
   "state": {},
   "version": "1.1.2"
  }
 },
 "nbformat": 4,
 "nbformat_minor": 2
}
