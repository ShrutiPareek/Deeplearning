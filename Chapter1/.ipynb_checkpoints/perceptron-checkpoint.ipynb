{
 "cells": [
  {
   "cell_type": "code",
   "execution_count": 7,
   "metadata": {},
   "outputs": [],
   "source": [
    "from keras.models import Sequential"
   ]
  },
  {
   "cell_type": "code",
   "execution_count": 8,
   "metadata": {
    "collapsed": true
   },
   "outputs": [],
   "source": [
    "from keras.layers import Dense"
   ]
  },
  {
   "cell_type": "code",
   "execution_count": 9,
   "metadata": {
    "collapsed": true
   },
   "outputs": [],
   "source": [
    "model=Sequential()"
   ]
  },
  {
   "cell_type": "code",
   "execution_count": 10,
   "metadata": {},
   "outputs": [],
   "source": [
    "model.add(Dense(12, input_dim=8, kernel_initializer= 'random_uniform'))"
   ]
  },
  {
   "cell_type": "code",
   "execution_count": 11,
   "metadata": {},
   "outputs": [
    {
     "data": {
      "text/plain": [
       "<keras.models.Sequential at 0x25916360198>"
      ]
     },
     "execution_count": 11,
     "metadata": {},
     "output_type": "execute_result"
    }
   ],
   "source": [
    "model"
   ]
  },
  {
   "cell_type": "code",
   "execution_count": 12,
   "metadata": {},
   "outputs": [
    {
     "data": {
      "text/plain": [
       "[<tf.Variable 'dense_1/kernel:0' shape=(8, 12) dtype=float32_ref>,\n",
       " <tf.Variable 'dense_1/bias:0' shape=(12,) dtype=float32_ref>]"
      ]
     },
     "execution_count": 12,
     "metadata": {},
     "output_type": "execute_result"
    }
   ],
   "source": [
    "model.weights"
   ]
  },
  {
   "cell_type": "code",
   "execution_count": 13,
   "metadata": {},
   "outputs": [
    {
     "data": {
      "text/plain": [
       "['__call__',\n",
       " '__class__',\n",
       " '__delattr__',\n",
       " '__dict__',\n",
       " '__dir__',\n",
       " '__doc__',\n",
       " '__eq__',\n",
       " '__format__',\n",
       " '__ge__',\n",
       " '__getattribute__',\n",
       " '__gt__',\n",
       " '__hash__',\n",
       " '__init__',\n",
       " '__init_subclass__',\n",
       " '__le__',\n",
       " '__lt__',\n",
       " '__module__',\n",
       " '__ne__',\n",
       " '__new__',\n",
       " '__reduce__',\n",
       " '__reduce_ex__',\n",
       " '__repr__',\n",
       " '__setattr__',\n",
       " '__sizeof__',\n",
       " '__str__',\n",
       " '__subclasshook__',\n",
       " '__weakref__',\n",
       " '_add_inbound_node',\n",
       " '_built',\n",
       " '_check_num_samples',\n",
       " '_fit_loop',\n",
       " '_flattened_layers',\n",
       " '_gather_list_attr',\n",
       " '_get_deduped_metrics_names',\n",
       " '_get_node_attribute_at_index',\n",
       " '_initial_weights',\n",
       " '_make_predict_function',\n",
       " '_make_test_function',\n",
       " '_make_train_function',\n",
       " '_node_key',\n",
       " '_predict_loop',\n",
       " '_standardize_user_data',\n",
       " '_test_loop',\n",
       " '_trainable',\n",
       " '_updated_config',\n",
       " 'add',\n",
       " 'add_loss',\n",
       " 'add_update',\n",
       " 'add_weight',\n",
       " 'assert_input_compatibility',\n",
       " 'build',\n",
       " 'built',\n",
       " 'call',\n",
       " 'compile',\n",
       " 'compute_mask',\n",
       " 'compute_output_shape',\n",
       " 'count_params',\n",
       " 'evaluate',\n",
       " 'evaluate_generator',\n",
       " 'fit',\n",
       " 'fit_generator',\n",
       " 'from_config',\n",
       " 'get_config',\n",
       " 'get_input_at',\n",
       " 'get_input_mask_at',\n",
       " 'get_input_shape_at',\n",
       " 'get_layer',\n",
       " 'get_losses_for',\n",
       " 'get_output_at',\n",
       " 'get_output_mask_at',\n",
       " 'get_output_shape_at',\n",
       " 'get_updates_for',\n",
       " 'get_weights',\n",
       " 'inbound_nodes',\n",
       " 'input',\n",
       " 'input_mask',\n",
       " 'input_shape',\n",
       " 'input_spec',\n",
       " 'inputs',\n",
       " 'layers',\n",
       " 'legacy_from_config',\n",
       " 'legacy_get_config',\n",
       " 'load_weights',\n",
       " 'losses',\n",
       " 'model',\n",
       " 'name',\n",
       " 'non_trainable_weights',\n",
       " 'outbound_nodes',\n",
       " 'output',\n",
       " 'output_mask',\n",
       " 'output_shape',\n",
       " 'outputs',\n",
       " 'pop',\n",
       " 'predict',\n",
       " 'predict_classes',\n",
       " 'predict_generator',\n",
       " 'predict_on_batch',\n",
       " 'predict_proba',\n",
       " 'regularizers',\n",
       " 'reset_states',\n",
       " 'run_internal_graph',\n",
       " 'save',\n",
       " 'save_weights',\n",
       " 'set_weights',\n",
       " 'state_updates',\n",
       " 'stateful',\n",
       " 'summary',\n",
       " 'test_on_batch',\n",
       " 'to_json',\n",
       " 'to_yaml',\n",
       " 'train_on_batch',\n",
       " 'trainable',\n",
       " 'trainable_weights',\n",
       " 'updates',\n",
       " 'uses_learning_phase',\n",
       " 'weights']"
      ]
     },
     "execution_count": 13,
     "metadata": {},
     "output_type": "execute_result"
    }
   ],
   "source": [
    "dir(model)"
   ]
  },
  {
   "cell_type": "code",
   "execution_count": 15,
   "metadata": {
    "scrolled": true
   },
   "outputs": [
    {
     "data": {
      "text/plain": [
       "[array([[ 0.0131528 ,  0.01791051,  0.03447786, -0.02243277,  0.02583703,\n",
       "          0.022376  , -0.01254587, -0.03054293, -0.04160341, -0.00030883,\n",
       "          0.03135553, -0.04996279],\n",
       "        [-0.04567719, -0.02811079, -0.04629837, -0.04527141, -0.04726356,\n",
       "          0.01615347, -0.03510688,  0.00527868, -0.03607421,  0.0119747 ,\n",
       "         -0.04072832, -0.03205341],\n",
       "        [-0.01933846, -0.00023141, -0.04088266,  0.00657471,  0.02424956,\n",
       "          0.02628433,  0.04266329, -0.02071735,  0.02811864, -0.0237488 ,\n",
       "         -0.0052456 ,  0.00048528],\n",
       "        [ 0.0404139 ,  0.0217294 ,  0.04566224,  0.00944405,  0.04517427,\n",
       "          0.04603631,  0.01906857, -0.00325762,  0.03574765,  0.01846849,\n",
       "          0.02430933, -0.04161701],\n",
       "        [-0.03254709,  0.03590316, -0.04072851, -0.01963127,  0.03093698,\n",
       "          0.01712216, -0.04120142, -0.04387276,  0.01234995,  0.00185039,\n",
       "         -0.02482058,  0.02548236],\n",
       "        [ 0.01787725, -0.01873488, -0.04370828,  0.04521159,  0.0486459 ,\n",
       "          0.04093609, -0.00969508,  0.0282393 , -0.03941677, -0.03594346,\n",
       "          0.03799676,  0.00410055],\n",
       "        [ 0.01882508, -0.01563202,  0.03130598, -0.02071974, -0.0429102 ,\n",
       "         -0.00638293,  0.04185254, -0.03030107,  0.04997036, -0.0401564 ,\n",
       "         -0.01779902,  0.01504746],\n",
       "        [ 0.01887789,  0.0367896 ,  0.02377837,  0.02595994,  0.02550041,\n",
       "         -0.02003896,  0.03591293,  0.00623403, -0.02585402,  0.04724969,\n",
       "          0.04590242, -0.01035277]], dtype=float32),\n",
       " array([ 0.,  0.,  0.,  0.,  0.,  0.,  0.,  0.,  0.,  0.,  0.,  0.], dtype=float32)]"
      ]
     },
     "execution_count": 15,
     "metadata": {},
     "output_type": "execute_result"
    }
   ],
   "source": [
    "model.get_weights()"
   ]
  },
  {
   "cell_type": "code",
   "execution_count": 18,
   "metadata": {},
   "outputs": [
    {
     "data": {
      "text/plain": [
       "array([[ 0.0131528 ,  0.01791051,  0.03447786, -0.02243277,  0.02583703,\n",
       "         0.022376  , -0.01254587, -0.03054293, -0.04160341, -0.00030883,\n",
       "         0.03135553, -0.04996279],\n",
       "       [-0.04567719, -0.02811079, -0.04629837, -0.04527141, -0.04726356,\n",
       "         0.01615347, -0.03510688,  0.00527868, -0.03607421,  0.0119747 ,\n",
       "        -0.04072832, -0.03205341],\n",
       "       [-0.01933846, -0.00023141, -0.04088266,  0.00657471,  0.02424956,\n",
       "         0.02628433,  0.04266329, -0.02071735,  0.02811864, -0.0237488 ,\n",
       "        -0.0052456 ,  0.00048528],\n",
       "       [ 0.0404139 ,  0.0217294 ,  0.04566224,  0.00944405,  0.04517427,\n",
       "         0.04603631,  0.01906857, -0.00325762,  0.03574765,  0.01846849,\n",
       "         0.02430933, -0.04161701],\n",
       "       [-0.03254709,  0.03590316, -0.04072851, -0.01963127,  0.03093698,\n",
       "         0.01712216, -0.04120142, -0.04387276,  0.01234995,  0.00185039,\n",
       "        -0.02482058,  0.02548236],\n",
       "       [ 0.01787725, -0.01873488, -0.04370828,  0.04521159,  0.0486459 ,\n",
       "         0.04093609, -0.00969508,  0.0282393 , -0.03941677, -0.03594346,\n",
       "         0.03799676,  0.00410055],\n",
       "       [ 0.01882508, -0.01563202,  0.03130598, -0.02071974, -0.0429102 ,\n",
       "        -0.00638293,  0.04185254, -0.03030107,  0.04997036, -0.0401564 ,\n",
       "        -0.01779902,  0.01504746],\n",
       "       [ 0.01887789,  0.0367896 ,  0.02377837,  0.02595994,  0.02550041,\n",
       "        -0.02003896,  0.03591293,  0.00623403, -0.02585402,  0.04724969,\n",
       "         0.04590242, -0.01035277]], dtype=float32)"
      ]
     },
     "execution_count": 18,
     "metadata": {},
     "output_type": "execute_result"
    }
   ],
   "source": [
    "model.get_weights()[0]"
   ]
  },
  {
   "cell_type": "code",
   "execution_count": 19,
   "metadata": {},
   "outputs": [
    {
     "data": {
      "text/plain": [
       "array([ 0.,  0.,  0.,  0.,  0.,  0.,  0.,  0.,  0.,  0.,  0.,  0.], dtype=float32)"
      ]
     },
     "execution_count": 19,
     "metadata": {},
     "output_type": "execute_result"
    }
   ],
   "source": [
    "model.get_weights()[1]"
   ]
  },
  {
   "cell_type": "code",
   "execution_count": 20,
   "metadata": {},
   "outputs": [
    {
     "data": {
      "text/plain": [
       "8"
      ]
     },
     "execution_count": 20,
     "metadata": {},
     "output_type": "execute_result"
    }
   ],
   "source": [
    "len(model.get_weights()[0])"
   ]
  },
  {
   "cell_type": "code",
   "execution_count": 21,
   "metadata": {
    "collapsed": true
   },
   "outputs": [],
   "source": [
    "model.add(Dense(12, input_dim=8, kernel_initializer= 'zeros'))"
   ]
  },
  {
   "cell_type": "code",
   "execution_count": 22,
   "metadata": {},
   "outputs": [
    {
     "data": {
      "text/plain": [
       "[array([[ 0.0131528 ,  0.01791051,  0.03447786, -0.02243277,  0.02583703,\n",
       "          0.022376  , -0.01254587, -0.03054293, -0.04160341, -0.00030883,\n",
       "          0.03135553, -0.04996279],\n",
       "        [-0.04567719, -0.02811079, -0.04629837, -0.04527141, -0.04726356,\n",
       "          0.01615347, -0.03510688,  0.00527868, -0.03607421,  0.0119747 ,\n",
       "         -0.04072832, -0.03205341],\n",
       "        [-0.01933846, -0.00023141, -0.04088266,  0.00657471,  0.02424956,\n",
       "          0.02628433,  0.04266329, -0.02071735,  0.02811864, -0.0237488 ,\n",
       "         -0.0052456 ,  0.00048528],\n",
       "        [ 0.0404139 ,  0.0217294 ,  0.04566224,  0.00944405,  0.04517427,\n",
       "          0.04603631,  0.01906857, -0.00325762,  0.03574765,  0.01846849,\n",
       "          0.02430933, -0.04161701],\n",
       "        [-0.03254709,  0.03590316, -0.04072851, -0.01963127,  0.03093698,\n",
       "          0.01712216, -0.04120142, -0.04387276,  0.01234995,  0.00185039,\n",
       "         -0.02482058,  0.02548236],\n",
       "        [ 0.01787725, -0.01873488, -0.04370828,  0.04521159,  0.0486459 ,\n",
       "          0.04093609, -0.00969508,  0.0282393 , -0.03941677, -0.03594346,\n",
       "          0.03799676,  0.00410055],\n",
       "        [ 0.01882508, -0.01563202,  0.03130598, -0.02071974, -0.0429102 ,\n",
       "         -0.00638293,  0.04185254, -0.03030107,  0.04997036, -0.0401564 ,\n",
       "         -0.01779902,  0.01504746],\n",
       "        [ 0.01887789,  0.0367896 ,  0.02377837,  0.02595994,  0.02550041,\n",
       "         -0.02003896,  0.03591293,  0.00623403, -0.02585402,  0.04724969,\n",
       "          0.04590242, -0.01035277]], dtype=float32),\n",
       " array([ 0.,  0.,  0.,  0.,  0.,  0.,  0.,  0.,  0.,  0.,  0.,  0.], dtype=float32),\n",
       " array([[ 0.,  0.,  0.,  0.,  0.,  0.,  0.,  0.,  0.,  0.,  0.,  0.],\n",
       "        [ 0.,  0.,  0.,  0.,  0.,  0.,  0.,  0.,  0.,  0.,  0.,  0.],\n",
       "        [ 0.,  0.,  0.,  0.,  0.,  0.,  0.,  0.,  0.,  0.,  0.,  0.],\n",
       "        [ 0.,  0.,  0.,  0.,  0.,  0.,  0.,  0.,  0.,  0.,  0.,  0.],\n",
       "        [ 0.,  0.,  0.,  0.,  0.,  0.,  0.,  0.,  0.,  0.,  0.,  0.],\n",
       "        [ 0.,  0.,  0.,  0.,  0.,  0.,  0.,  0.,  0.,  0.,  0.,  0.],\n",
       "        [ 0.,  0.,  0.,  0.,  0.,  0.,  0.,  0.,  0.,  0.,  0.,  0.],\n",
       "        [ 0.,  0.,  0.,  0.,  0.,  0.,  0.,  0.,  0.,  0.,  0.,  0.],\n",
       "        [ 0.,  0.,  0.,  0.,  0.,  0.,  0.,  0.,  0.,  0.,  0.,  0.],\n",
       "        [ 0.,  0.,  0.,  0.,  0.,  0.,  0.,  0.,  0.,  0.,  0.,  0.],\n",
       "        [ 0.,  0.,  0.,  0.,  0.,  0.,  0.,  0.,  0.,  0.,  0.,  0.],\n",
       "        [ 0.,  0.,  0.,  0.,  0.,  0.,  0.,  0.,  0.,  0.,  0.,  0.]], dtype=float32),\n",
       " array([ 0.,  0.,  0.,  0.,  0.,  0.,  0.,  0.,  0.,  0.,  0.,  0.], dtype=float32)]"
      ]
     },
     "execution_count": 22,
     "metadata": {},
     "output_type": "execute_result"
    }
   ],
   "source": [
    "model.get_weights()"
   ]
  },
  {
   "cell_type": "code",
   "execution_count": 28,
   "metadata": {},
   "outputs": [
    {
     "data": {
      "text/plain": [
       "[<tf.Variable 'dense_1/kernel:0' shape=(8, 12) dtype=float32_ref>,\n",
       " <tf.Variable 'dense_1/bias:0' shape=(12,) dtype=float32_ref>,\n",
       " <tf.Variable 'dense_2/kernel:0' shape=(12, 12) dtype=float32_ref>,\n",
       " <tf.Variable 'dense_2/bias:0' shape=(12,) dtype=float32_ref>]"
      ]
     },
     "execution_count": 28,
     "metadata": {},
     "output_type": "execute_result"
    }
   ],
   "source": [
    "model.weights"
   ]
  },
  {
   "cell_type": "code",
   "execution_count": 31,
   "metadata": {},
   "outputs": [
    {
     "ename": "TypeError",
     "evalue": "object of type 'int' has no len()",
     "output_type": "error",
     "traceback": [
      "\u001b[1;31m---------------------------------------------------------------------------\u001b[0m",
      "\u001b[1;31mTypeError\u001b[0m                                 Traceback (most recent call last)",
      "\u001b[1;32m<ipython-input-31-5d5e5d3228d9>\u001b[0m in \u001b[0;36m<module>\u001b[1;34m()\u001b[0m\n\u001b[1;32m----> 1\u001b[1;33m \u001b[0mmodel\u001b[0m\u001b[1;33m.\u001b[0m\u001b[0mrun_internal_graph\u001b[0m\u001b[1;33m(\u001b[0m\u001b[1;36m1\u001b[0m\u001b[1;33m)\u001b[0m\u001b[1;33m\u001b[0m\u001b[0m\n\u001b[0m",
      "\u001b[1;32mC:\\ProgramData\\Anaconda3\\lib\\site-packages\\keras\\engine\\topology.py\u001b[0m in \u001b[0;36mrun_internal_graph\u001b[1;34m(self, inputs, masks)\u001b[0m\n\u001b[0;32m   2166\u001b[0m         \"\"\"\n\u001b[0;32m   2167\u001b[0m         \u001b[1;32mif\u001b[0m \u001b[0mmasks\u001b[0m \u001b[1;32mis\u001b[0m \u001b[1;32mNone\u001b[0m\u001b[1;33m:\u001b[0m\u001b[1;33m\u001b[0m\u001b[0m\n\u001b[1;32m-> 2168\u001b[1;33m             \u001b[0mmasks\u001b[0m \u001b[1;33m=\u001b[0m \u001b[1;33m[\u001b[0m\u001b[1;32mNone\u001b[0m \u001b[1;32mfor\u001b[0m \u001b[0m_\u001b[0m \u001b[1;32min\u001b[0m \u001b[0mrange\u001b[0m\u001b[1;33m(\u001b[0m\u001b[0mlen\u001b[0m\u001b[1;33m(\u001b[0m\u001b[0minputs\u001b[0m\u001b[1;33m)\u001b[0m\u001b[1;33m)\u001b[0m\u001b[1;33m]\u001b[0m\u001b[1;33m\u001b[0m\u001b[0m\n\u001b[0m\u001b[0;32m   2169\u001b[0m \u001b[1;33m\u001b[0m\u001b[0m\n\u001b[0;32m   2170\u001b[0m         \u001b[1;31m# Dictionary mapping reference tensors to tuples\u001b[0m\u001b[1;33m\u001b[0m\u001b[1;33m\u001b[0m\u001b[0m\n",
      "\u001b[1;31mTypeError\u001b[0m: object of type 'int' has no len()"
     ]
    }
   ],
   "source": []
  },
  {
   "cell_type": "code",
   "execution_count": null,
   "metadata": {
    "collapsed": true
   },
   "outputs": [],
   "source": []
  }
 ],
 "metadata": {
  "kernelspec": {
   "display_name": "Python 3",
   "language": "python",
   "name": "python3"
  },
  "language_info": {
   "codemirror_mode": {
    "name": "ipython",
    "version": 3
   },
   "file_extension": ".py",
   "mimetype": "text/x-python",
   "name": "python",
   "nbconvert_exporter": "python",
   "pygments_lexer": "ipython3",
   "version": "3.6.1"
  }
 },
 "nbformat": 4,
 "nbformat_minor": 2
}
