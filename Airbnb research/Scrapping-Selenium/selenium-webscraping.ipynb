{
 "cells": [
  {
   "cell_type": "code",
   "execution_count": 3,
   "metadata": {},
   "outputs": [],
   "source": [
    "from selenium import webdriver"
   ]
  },
  {
   "cell_type": "code",
   "execution_count": 4,
   "metadata": {},
   "outputs": [
    {
     "name": "stdout",
     "output_type": "stream",
     "text": [
      "Title:  Interested in gaining a new perspective on things? Check out the r/askreddit subreddit!\n",
      "Title:  Rivers of Iceland [2000x1083] by Sergey Aleschenko\n",
      "Title:  Dog sleeping in a window display in turkey. Store workers let him stay the whole time because it was so cold outside.\n",
      "Title:  TIL Prince was a sensational ten pin bowler who could pretty much get a strike at will and wore furry knee high boots when bowling.\n",
      "Title:  Next time on Diners, Drive-ins, and Dives....\n",
      "Title:  Frost on my window looks like a Dr. Seuss drawing\n",
      "Title:  A polar bear standing on top of a whale skull\n",
      "Title:  How bullets are made\n",
      "Title:  goodboye does a GROW\n",
      "Title:  Warning Against Abdication of Duty, Senators Demand FCC Abandon Net Neutrality Vote: Ajit Pai's plan would leave the U.S. with a \"gaping consumer protection void,\" say 39 senators\n",
      "Title:  So annoying!\n",
      "Title:  🔥Baby bears climbing in the trees🔥\n",
      "Title:  He doesn't want his favorite human to go on vacation\n",
      "Title:  meirl\n",
      "Title:  We joked for years that my grandfather had a girlfriend in Japan. I found this in his desk. Occupied Japan, 1955\n",
      "Title:  This shirt my friend wore today\n",
      "Title:  Pam IRL\n",
      "Title:  The black hair tie lining up with the circle on the shirt\n",
      "Title:  How I showed up at work today for the ugly sweater contest\n",
      "Title:  PsBattle: Woman in Black & White Costume at SantaCon\n",
      "Title:  Florida men who dragged shark behind boat charged with animal cruelty.\n",
      "Title:  [Poetry] How Arizona Cops \"Legally\" Shoot People\n",
      "Title:  The remains of a crashed P-38 Lightning on a beach in Wales\n",
      "Title:  Girl says she hasn’t had a day off in weeks, her own Mom calls her out for just taking a week long trip to Disney World\n",
      "Title:  They got this\n",
      "Title:  Anderson Cooper has had enough\n"
     ]
    }
   ],
   "source": [
    "options = webdriver.ChromeOptions()\n",
    "options.binary_location = '/Applications/Google Chrome Canary.app/Contents/MacOS/Google Chrome Canary'\n",
    "options.add_argument('window-size=800x841')\n",
    "options.add_argument('headless')\n",
    "driver = webdriver.Chrome(chrome_options=options)\n",
    "driver.get('https://reddit.com')\n",
    "driver.find_element_by_css_selector('.btn').click()\n",
    "# topLinks = driver.find_elements_by_xpath(\"//div/p/a[contains(@class, 'title')]\")\n",
    "# for link in topLinks:\n",
    "#   print 'Title: ', link.text\n",
    "driver.quit()"
   ]
  },
  {
   "cell_type": "code",
   "execution_count": null,
   "metadata": {},
   "outputs": [],
   "source": []
  }
 ],
 "metadata": {
  "kernelspec": {
   "display_name": "Python 2",
   "language": "python",
   "name": "python2"
  },
  "language_info": {
   "codemirror_mode": {
    "name": "ipython",
    "version": 2
   },
   "file_extension": ".py",
   "mimetype": "text/x-python",
   "name": "python",
   "nbconvert_exporter": "python",
   "pygments_lexer": "ipython2",
   "version": "2.7.14"
  },
  "widgets": {
   "state": {},
   "version": "1.1.2"
  }
 },
 "nbformat": 4,
 "nbformat_minor": 2
}
