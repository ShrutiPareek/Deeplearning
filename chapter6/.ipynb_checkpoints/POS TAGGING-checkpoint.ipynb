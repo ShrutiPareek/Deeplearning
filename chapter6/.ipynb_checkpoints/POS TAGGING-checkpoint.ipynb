{
 "cells": [
  {
   "cell_type": "code",
   "execution_count": 12,
   "metadata": {},
   "outputs": [],
   "source": [
    "#all the imports\n",
    "from keras.layers.core import Activation, Dense, Dropout, SpatialDropout1D, RepeatVector\n",
    "from keras.layers.embeddings import Embedding\n",
    "from keras.layers.recurrent import GRU\n",
    "from keras.models import Sequential\n",
    "from keras.preprocessing import sequence\n",
    "from sklearn.model_selection import train_test_split\n",
    "import collections\n",
    "import matplotlib.pyplot as plt\n",
    "import nltk\n",
    "import numpy as np\n",
    "import os"
   ]
  },
  {
   "cell_type": "code",
   "execution_count": 27,
   "metadata": {},
   "outputs": [],
   "source": [
    "DATA_DIR=\"/Users/tanaykarmarkar/nltk_data\"\n",
    "fedata=open(os.path.join(DATA_DIR,\"treebank_sents.txt\"),\"w\")#w will be used instead of wb\n",
    "ffdata=open(os.path.join(DATA_DIR,\"treebank_poss.txt\"),\"w\")\n",
    "sents=nltk.corpus.treebank.tagged_sents()\n",
    "for sent in sents:\n",
    "    words, poss=[],[]\n",
    "    for word, pos in sent:\n",
    "        if pos==\"-NONE-\":\n",
    "            continue\n",
    "        words.append(word)\n",
    "        poss.append(pos)\n",
    "    fedata.write('{:s}n'.format(' ').join(words))\n",
    "    ffdata.write(\"{:s}n\".format(' ').join(poss))\n",
    "fedata.close()\n",
    "ffdata.close()"
   ]
  },
  {
   "cell_type": "code",
   "execution_count": 36,
   "metadata": {},
   "outputs": [
    {
     "name": "stdout",
     "output_type": "stream",
     "text": [
      "11863 90171 1 150 90171 1\n"
     ]
    }
   ],
   "source": [
    "def parse_sentences(filename):\n",
    "    words_freqs=collections.Counter()\n",
    "    num_recs, maxlen=0,0\n",
    "    fin=open(filename,\"rb\")\n",
    "    for line in fin:\n",
    "        words=line.strip().lower().split()\n",
    "        for word in words:\n",
    "            words_freqs[word]+=1\n",
    "        if len(words)>maxlen:\n",
    "            maxlen=len(words)\n",
    "        num_recs+=1\n",
    "    fin.close()\n",
    "    return words_freqs,maxlen,num_recs\n",
    "s_wordfreqs,s_maxlen,s_numrecs=parse_sentences(os.path.join(DATA_DIR,\"treebank_sents.txt\"))\n",
    "t_wordfreqs,t_maxlen,t_numrecs=parse_sentences(os.path.join(DATA_DIR,\"treebank_poss.txt\"))\n",
    "print(len(s_wordfreqs),s_maxlen,s_numrecs,len(t_wordfreqs),t_maxlen,t_numrecs)"
   ]
  },
  {
   "cell_type": "code",
   "execution_count": 35,
   "metadata": {},
   "outputs": [
    {
     "name": "stdout",
     "output_type": "stream",
     "text": [
      "11863 90171 1 150 90171 1\n"
     ]
    }
   ],
   "source": [
    "MAX_SEQLEN=250\n",
    "S_MAX_FEATURES=5000\n",
    "T_MAX_FEATURES=45\n",
    "\n",
    "s_vocabsize="
   ]
  },
  {
   "cell_type": "code",
   "execution_count": null,
   "metadata": {
    "collapsed": true
   },
   "outputs": [],
   "source": []
  }
 ],
 "metadata": {
  "kernelspec": {
   "display_name": "Python 3",
   "language": "python",
   "name": "python3"
  },
  "language_info": {
   "codemirror_mode": {
    "name": "ipython",
    "version": 3
   },
   "file_extension": ".py",
   "mimetype": "text/x-python",
   "name": "python",
   "nbconvert_exporter": "python",
   "pygments_lexer": "ipython3",
   "version": "3.6.1"
  }
 },
 "nbformat": 4,
 "nbformat_minor": 2
}
